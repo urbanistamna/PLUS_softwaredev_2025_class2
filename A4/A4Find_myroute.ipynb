{
 "cells": [
  {
   "cell_type": "markdown",
   "id": "4314f215-1b1b-4698-9765-d4a06be4b814",
   "metadata": {},
   "source": [
    "### From geo_utils import load_city_road_network, get_tourist_locations, calculate_pairwise_distances,calculate_geographic_centroid,filter_valid_locations"
   ]
  },
  {
   "cell_type": "code",
   "execution_count": 8,
   "id": "c64a80d1-d635-46a3-a4e1-d4700249778f",
   "metadata": {},
   "outputs": [
    {
     "name": "stdout",
     "output_type": "stream",
     "text": [
      "MultiDiGraph with 2956 nodes and 7055 edges\n"
     ]
    }
   ],
   "source": [
    "graph = load_city_road_network(\"Salzburg, Austria\")\n",
    "print(graph)"
   ]
  },
  {
   "cell_type": "markdown",
   "id": "2c5f21b3-3b23-4783-b8b2-fa0cb9a745dd",
   "metadata": {},
   "source": [
    "### 🛣️ load_city_road_network(city_name)\n",
    "\n",
    "This function uses the **OSMnx** library to load the road network of a given city (e.g., \"Salzburg, Austria\").\n",
    "\n",
    "**Why I used this function?**  \n",
    "To begin with, this function gives us a `networkx` graph of the city's roads, which can later be used for routing, TSP optimization, and distance calculation between tourist spots.\n",
    "\n",
    "**Returns**  \n",
    "A road network graph (`MultiDiGraph`) that can be used for further geospatial analysis or route optimization."
   ]
  },
  {
   "cell_type": "code",
   "execution_count": 9,
   "id": "f2181f9b-79e4-40cc-86a0-11a50200fd39",
   "metadata": {},
   "outputs": [
    {
     "name": "stdout",
     "output_type": "stream",
     "text": [
      "[('Hohensalzburg Fortress, Salzburg', 47.7952103, 13.0480971), ('Mirabell Palace, Salzburg', None, None), (\"Mozart's Birthplace, Salzburg\", 47.799943, 13.0435536)]\n"
     ]
    }
   ],
   "source": [
    "places = [\n",
    "    \"Hohensalzburg Fortress, Salzburg\",\n",
    "    \"Mirabell Palace, Salzburg\",\n",
    "    \"Mozart's Birthplace, Salzburg\"\n",
    "]\n",
    "\n",
    "locations = get_tourist_locations(places)\n",
    "print(locations)"
   ]
  },
  {
   "cell_type": "markdown",
   "id": "60ae3e3f-5edc-4f1b-b64a-88e91057e69b",
   "metadata": {},
   "source": [
    "### 📍 get_tourist_locations(place_names)\n",
    "\n",
    "This function converts a list of tourist attraction names (like \"Mirabell Palace, Salzburg\") into real-world coordinates using the **Geopy** library.\n",
    "\n",
    "**Why I used this function?**  \n",
    "To optimize tourist routes, we first need to know the exact latitude and longitude of each attraction. This function automates that lookup using OpenStreetMap’s Nominatim API.\n",
    "\n",
    "**Returns**  \n",
    "A list of tuples in the format: (name, latitude, longitude). If the location is not found, `None` is used for coordinates.\n"
   ]
  },
  {
   "cell_type": "code",
   "execution_count": 1,
   "id": "0b7e9753-9c35-4def-9a8d-0027edf998a9",
   "metadata": {},
   "outputs": [
    {
     "name": "stdout",
     "output_type": "stream",
     "text": [
      "Locations: [('Hohensalzburg Fortress, Salzburg, Austria', 47.7952103, 13.0480971), ('Mirabell Palace, Salzburg, Austria', None, None), (\"Mozart's Birthplace, Salzburg, Austria\", 47.799943, 13.0435536)]\n",
      "Distance from Hohensalzburg Fortress, Salzburg, Austria to Mozart's Birthplace, Salzburg, Austria: 0.63 km\n"
     ]
    }
   ],
   "source": [
    "from geo_utils import get_tourist_locations, calculate_pairwise_distances\n",
    "\n",
    "places = [\n",
    "    \"Hohensalzburg Fortress, Salzburg, Austria\",\n",
    "    \"Mirabell Palace, Salzburg, Austria\",\n",
    "    \"Mozart's Birthplace, Salzburg, Austria\"\n",
    "]\n",
    "\n",
    "locations = get_tourist_locations(places)\n",
    "print(\"Locations:\", locations)\n",
    "\n",
    "distances = calculate_pairwise_distances(locations)\n",
    "\n",
    "for p1, p2, dist in distances:\n",
    "    print(f\"Distance from {p1} to {p2}: {dist:.2f} km\")\n"
   ]
  },
  {
   "cell_type": "markdown",
   "id": "c46279cf-f481-49ee-a19a-84e0a7738a0d",
   "metadata": {},
   "source": [
    "### 📏 calculate_pairwise_distances(loc_list)\n",
    "\n",
    "This function calculates geodesic (real-world, curved surface) distances between every pair of tourist locations using **Geopy**.\n",
    "\n",
    "**Why I used this function?**  \n",
    "Knowing distances between all attraction pairs is crucial for optimizing the travel route. These distances act as the weights (costs) for our routing graph.\n",
    "\n",
    "**Returns:**  \n",
    "A list of tuples like `(place1, place2, distance_in_km)` that shows how far each attraction is from every other.\n"
   ]
  },
  {
   "cell_type": "code",
   "execution_count": 1,
   "id": "8fab6696-29ce-47ee-be6b-16ebb4256ca5",
   "metadata": {},
   "outputs": [
    {
     "name": "stdout",
     "output_type": "stream",
     "text": [
      "🧭 Centroid of selected places is: 47.79960, 13.04493\n"
     ]
    }
   ],
   "source": [
    "from geo_utils import calculate_geographic_centroid\n",
    "\n",
    "# Sample list of tourist places with lat/lon\n",
    "places = [\n",
    "    (\"Mirabell Palace\", 47.8056, 13.0430),\n",
    "    (\"Mozart's Birthplace\", 47.8007, 13.0435),\n",
    "    (\"Hohensalzburg Fortress\", 47.7925, 13.0483)\n",
    "]\n",
    "\n",
    "centroid_lat, centroid_lon = calculate_geographic_centroid(places)\n",
    "print(f\"🧭 Centroid of selected places is: {centroid_lat:.5f}, {centroid_lon:.5f}\")\n",
    "\n"
   ]
  },
  {
   "cell_type": "markdown",
   "id": "9489347c-3f77-4b43-8d28-4ea20c9b85fb",
   "metadata": {},
   "source": [
    "### 🗺️ calculate_geographic_centroid(locations)\n",
    "\n",
    "This function calculates the geographic center (centroid) of all valid tourist attraction coordinates using the **mean** latitude and longitude.\n",
    "\n",
    "**Why I used this function?**  \n",
    "We can use this centroid to visualize the center of all attractions or to search for nearby cafés, parks, or other POIs from a central spot.\n",
    "\n",
    "**Returns:**  \n",
    "A tuple like `(centroid_latitude, centroid_longitude)` that helps center maps or do focused POI queries.\n"
   ]
  },
  {
   "cell_type": "code",
   "execution_count": 2,
   "id": "acde29e3-46b6-4f8f-927f-a4710e1e2b39",
   "metadata": {},
   "outputs": [
    {
     "name": "stdout",
     "output_type": "stream",
     "text": [
      "All Locations (with errors):\n",
      "('Mirabell Palace, Salzburg', None, None)\n",
      "('Hohensalzburg Fortress, Salzburg', 47.7952103, 13.0480971)\n",
      "('This Place Does Not Exist', None, None)\n",
      "(\"Mozart's Birthplace, Salzburg\", 47.799943, 13.0435536)\n",
      "\n",
      "Filtered Valid Locations:\n",
      "('Hohensalzburg Fortress, Salzburg', 47.7952103, 13.0480971)\n",
      "(\"Mozart's Birthplace, Salzburg\", 47.799943, 13.0435536)\n"
     ]
    }
   ],
   "source": [
    "from geo_utils import get_tourist_locations, filter_valid_locations\n",
    "\n",
    "# Define raw input\n",
    "raw_places = [\n",
    "    \"Mirabell Palace, Salzburg\",\n",
    "    \"Hohensalzburg Fortress, Salzburg\",\n",
    "    \"This Place Does Not Exist\",\n",
    "    \"Mozart's Birthplace, Salzburg\"\n",
    "]\n",
    "\n",
    "# Geocode\n",
    "locations = get_tourist_locations(raw_places)\n",
    "\n",
    "# Filter out invalid ones (None values)\n",
    "valid_locations = filter_valid_locations(locations)\n",
    "\n",
    "# Print before and after\n",
    "print(\"All Locations (with errors):\")\n",
    "for loc in locations:\n",
    "    print(loc)\n",
    "\n",
    "print(\"\\nFiltered Valid Locations:\")\n",
    "for loc in valid_locations:\n",
    "    print(loc)\n"
   ]
  },
  {
   "cell_type": "markdown",
   "id": "7ea91049-a318-471b-a335-6d17f9e3e5b6",
   "metadata": {},
   "source": [
    "### filter_valid_locations(loc_list) 🧹\n",
    "\n",
    "This helper function removes any tourist attractions that couldn’t be geocoded (i.e., whose lat/lon is missing or `None`).\n",
    "\n",
    "**Why I used this function?**  \n",
    "Distance calculations and routing logic depend on valid coordinates. This function ensures that we’re only working with usable, clean data.\n",
    "\n",
    "**Returns:**  \n",
    "A filtered list of tuples that only includes locations with valid latitude and longitude.\n"
   ]
  },
  {
   "cell_type": "code",
   "execution_count": null,
   "id": "5e8d7848-ccf1-4cf5-a20f-2681cc7ccea7",
   "metadata": {},
   "outputs": [],
   "source": []
  }
 ],
 "metadata": {
  "kernelspec": {
   "display_name": "Python 3 (ipykernel)",
   "language": "python",
   "name": "python3"
  },
  "language_info": {
   "codemirror_mode": {
    "name": "ipython",
    "version": 3
   },
   "file_extension": ".py",
   "mimetype": "text/x-python",
   "name": "python",
   "nbconvert_exporter": "python",
   "pygments_lexer": "ipython3",
   "version": "3.10.18"
  }
 },
 "nbformat": 4,
 "nbformat_minor": 5
}
